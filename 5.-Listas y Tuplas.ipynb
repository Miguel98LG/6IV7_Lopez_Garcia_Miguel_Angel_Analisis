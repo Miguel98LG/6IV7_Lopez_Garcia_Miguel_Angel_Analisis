{
 "cells": [
  {
   "cell_type": "markdown",
   "id": "d1a16963-6e72-4bf2-8445-47f8c4950de0",
   "metadata": {},
   "source": [
    "# 5.- Listas y Tuplas"
   ]
  },
  {
   "cell_type": "markdown",
   "id": "6f9ec23e-0185-492f-bc67-b8a4bb2d4ef0",
   "metadata": {},
   "source": [
    "## 5.2.- Listas"
   ]
  },
  {
   "cell_type": "markdown",
   "id": "6fadf4a8-0173-4be4-8fa8-5a28260a55be",
   "metadata": {},
   "source": [
    "Una lista generalmente tiene datos homogeneos"
   ]
  },
  {
   "cell_type": "code",
   "execution_count": 1,
   "id": "ee8b43ec-dc1e-4ab0-ad07-cc689c1aab5f",
   "metadata": {},
   "outputs": [],
   "source": [
    "a = [9,10,8.5,8,8,7.5,10]"
   ]
  },
  {
   "cell_type": "code",
   "execution_count": 2,
   "id": "7f1c613e-f435-40e7-a422-3429c4a6b3bc",
   "metadata": {},
   "outputs": [
    {
     "data": {
      "text/plain": [
       "[9, 10, 8.5, 8, 8, 7.5, 10]"
      ]
     },
     "execution_count": 2,
     "metadata": {},
     "output_type": "execute_result"
    }
   ],
   "source": [
    "a"
   ]
  },
  {
   "cell_type": "markdown",
   "id": "228872fa-2eb0-4eff-8f6a-eb7c80ec4be4",
   "metadata": {},
   "source": [
    "Tambien puede tener datos heterogeneos, como texto y numeros"
   ]
  },
  {
   "cell_type": "code",
   "execution_count": 3,
   "id": "bc1858c1-4645-4ef3-a58c-9caa9b434a73",
   "metadata": {},
   "outputs": [],
   "source": [
    "A = ['Patricia','Mexico','F',1989]"
   ]
  },
  {
   "cell_type": "code",
   "execution_count": 4,
   "id": "27383860-9b02-47b1-b5fb-138dd6e99241",
   "metadata": {},
   "outputs": [
    {
     "data": {
      "text/plain": [
       "['Patricia', 'Mexico', 'F', 1989]"
      ]
     },
     "execution_count": 4,
     "metadata": {},
     "output_type": "execute_result"
    }
   ],
   "source": [
    "A"
   ]
  },
  {
   "cell_type": "markdown",
   "id": "40204270-3b76-4327-9388-eff4bf61efd7",
   "metadata": {},
   "source": [
    "El primer elemento siempre es indice 0, y de ahi vas contando"
   ]
  },
  {
   "cell_type": "code",
   "execution_count": 5,
   "id": "d8cba557-3e4a-4533-a84b-240686eb0924",
   "metadata": {},
   "outputs": [
    {
     "data": {
      "text/plain": [
       "9"
      ]
     },
     "execution_count": 5,
     "metadata": {},
     "output_type": "execute_result"
    }
   ],
   "source": [
    "a[0]"
   ]
  },
  {
   "cell_type": "markdown",
   "id": "a2d96f9a-877b-4e2c-8d3b-acde754d8bca",
   "metadata": {},
   "source": [
    "Usa len para conocer el numero de elementos en nuestra lista"
   ]
  },
  {
   "cell_type": "code",
   "execution_count": 7,
   "id": "c71f62dc-61e3-4c41-aa3a-69766ac5d274",
   "metadata": {},
   "outputs": [
    {
     "data": {
      "text/plain": [
       "4"
      ]
     },
     "execution_count": 7,
     "metadata": {},
     "output_type": "execute_result"
    }
   ],
   "source": [
    "len(A)"
   ]
  },
  {
   "cell_type": "code",
   "execution_count": 8,
   "id": "8b3ff594",
   "metadata": {},
   "outputs": [
    {
     "data": {
      "text/plain": [
       "7"
      ]
     },
     "execution_count": 8,
     "metadata": {},
     "output_type": "execute_result"
    }
   ],
   "source": [
    "len(a)"
   ]
  },
  {
   "cell_type": "markdown",
   "id": "88843d19-fef6-4962-8ddd-89ac770a641e",
   "metadata": {},
   "source": [
    "Y que pasa si le hablamos con indices negativos?"
   ]
  },
  {
   "cell_type": "code",
   "execution_count": 9,
   "id": "701af140-6dfe-498c-8138-8ad8b86d828b",
   "metadata": {},
   "outputs": [
    {
     "data": {
      "text/plain": [
       "1989"
      ]
     },
     "execution_count": 9,
     "metadata": {},
     "output_type": "execute_result"
    }
   ],
   "source": [
    "A[-1]"
   ]
  },
  {
   "cell_type": "code",
   "execution_count": 12,
   "id": "3f09f221",
   "metadata": {},
   "outputs": [
    {
     "data": {
      "text/plain": [
       "8.5"
      ]
     },
     "execution_count": 12,
     "metadata": {},
     "output_type": "execute_result"
    }
   ],
   "source": [
    "a[-5]"
   ]
  },
  {
   "cell_type": "markdown",
   "id": "acee545a-8948-47b1-a317-fac6b0fdd123",
   "metadata": {},
   "source": [
    "Los indices siempre deben de ser enteros - y también se vale que sean expresiones"
   ]
  },
  {
   "cell_type": "code",
   "execution_count": 11,
   "id": "9db1fa63-ead8-458c-9479-801bd92cbbf9",
   "metadata": {},
   "outputs": [
    {
     "data": {
      "text/plain": [
       "8"
      ]
     },
     "execution_count": 11,
     "metadata": {},
     "output_type": "execute_result"
    }
   ],
   "source": [
    "ax=1\n",
    "ay = 4\n",
    "a[ax-ay]"
   ]
  },
  {
   "cell_type": "markdown",
   "id": "a72c8a51-e531-4f87-9602-99fa2d433e24",
   "metadata": {},
   "source": [
    "PUedes cambiar elementos en particular"
   ]
  },
  {
   "cell_type": "code",
   "execution_count": 16,
   "id": "61ac17b8-eaa1-4fac-9f0c-196f616e4b6a",
   "metadata": {},
   "outputs": [],
   "source": [
    "a[3] = 7.2"
   ]
  },
  {
   "cell_type": "code",
   "execution_count": 17,
   "id": "ea2e5260-3434-4d9c-9616-222c868baf13",
   "metadata": {},
   "outputs": [
    {
     "data": {
      "text/plain": [
       "[9, 10, 8.5, 7.2, 8, 7.5, 10]"
      ]
     },
     "execution_count": 17,
     "metadata": {},
     "output_type": "execute_result"
    }
   ],
   "source": [
    "a"
   ]
  },
  {
   "cell_type": "markdown",
   "id": "9bb87d41-8d7b-439f-abc9-3f2c324bb267",
   "metadata": {},
   "source": [
    "Pero no en listas de caracteres"
   ]
  },
  {
   "cell_type": "code",
   "execution_count": 18,
   "id": "11d4a601-b2f1-42d5-91a1-262b7e2cde29",
   "metadata": {},
   "outputs": [],
   "source": [
    "b = 'Python'"
   ]
  },
  {
   "cell_type": "code",
   "execution_count": 19,
   "id": "9a084a62-dff2-4687-97fd-4098c2cb29fe",
   "metadata": {},
   "outputs": [
    {
     "data": {
      "text/plain": [
       "'n'"
      ]
     },
     "execution_count": 19,
     "metadata": {},
     "output_type": "execute_result"
    }
   ],
   "source": [
    "b[5]"
   ]
  },
  {
   "cell_type": "code",
   "execution_count": 20,
   "id": "fd332109",
   "metadata": {},
   "outputs": [
    {
     "ename": "TypeError",
     "evalue": "'str' object does not support item assignment",
     "output_type": "error",
     "traceback": [
      "\u001b[1;31m---------------------------------------------------------------------------\u001b[0m",
      "\u001b[1;31mTypeError\u001b[0m                                 Traceback (most recent call last)",
      "Cell \u001b[1;32mIn[20], line 1\u001b[0m\n\u001b[1;32m----> 1\u001b[0m b[\u001b[38;5;241m5\u001b[39m]\u001b[38;5;241m=\u001b[39m\u001b[38;5;124m'\u001b[39m\u001b[38;5;124mm\u001b[39m\u001b[38;5;124m'\u001b[39m\n",
      "\u001b[1;31mTypeError\u001b[0m: 'str' object does not support item assignment"
     ]
    }
   ],
   "source": [
    "b[5]='m'"
   ]
  },
  {
   "cell_type": "markdown",
   "id": "45284c87-094b-421e-8f69-576bcd813c2f",
   "metadata": {},
   "source": [
    "¿Que pasa si llamamos un indice fuera de la lista?"
   ]
  },
  {
   "cell_type": "code",
   "execution_count": 21,
   "id": "ff5315d3-c051-451e-a9a2-58970f14ff2d",
   "metadata": {},
   "outputs": [
    {
     "ename": "IndexError",
     "evalue": "list index out of range",
     "output_type": "error",
     "traceback": [
      "\u001b[1;31m---------------------------------------------------------------------------\u001b[0m",
      "\u001b[1;31mIndexError\u001b[0m                                Traceback (most recent call last)",
      "Cell \u001b[1;32mIn[21], line 1\u001b[0m\n\u001b[1;32m----> 1\u001b[0m a[\u001b[38;5;241m7\u001b[39m]\n",
      "\u001b[1;31mIndexError\u001b[0m: list index out of range"
     ]
    }
   ],
   "source": [
    "a[7]"
   ]
  },
  {
   "cell_type": "markdown",
   "id": "fea227c1-ae86-4712-befa-af7107de75d3",
   "metadata": {},
   "source": [
    "Cada elemento puede usarse como una variable"
   ]
  },
  {
   "cell_type": "code",
   "execution_count": 22,
   "id": "6ffb823c-ab3d-4319-ae31-f7bebcbbeb30",
   "metadata": {},
   "outputs": [
    {
     "data": {
      "text/plain": [
       "47.7"
      ]
     },
     "execution_count": 22,
     "metadata": {},
     "output_type": "execute_result"
    }
   ],
   "source": [
    "5*a[2]+a[3]-a[6]/5"
   ]
  },
  {
   "cell_type": "markdown",
   "id": "48eb6744-5a6c-4761-9b53-894b3049fd57",
   "metadata": {},
   "source": [
    "Vamos agregando elementos a una lista vacía"
   ]
  },
  {
   "cell_type": "code",
   "execution_count": 23,
   "id": "31afa804-ec4b-446c-9718-e9d88c41cc79",
   "metadata": {},
   "outputs": [],
   "source": [
    "mi_secuencia=[]"
   ]
  },
  {
   "cell_type": "code",
   "execution_count": 24,
   "id": "328640e8-3bcd-4650-87e3-98f8139c4182",
   "metadata": {},
   "outputs": [],
   "source": [
    "for numero in range(-2,3):\n",
    "    mi_secuencia += [numero]"
   ]
  },
  {
   "cell_type": "code",
   "execution_count": null,
   "id": "801c2dc4-7528-46f0-8aa0-392b3c6afeeb",
   "metadata": {},
   "outputs": [
    {
     "data": {
      "text/plain": [
       "[-2, -1, 0, 1, 2]"
      ]
     },
     "execution_count": 26,
     "metadata": {},
     "output_type": "execute_result"
    }
   ],
   "source": [
    "mi_secuencia"
   ]
  },
  {
   "cell_type": "markdown",
   "id": "8e8ecac4-5a0a-472a-9db9-ada0d66b1184",
   "metadata": {},
   "source": [
    "Y es totalmente viable concatenar 2 listas"
   ]
  },
  {
   "cell_type": "code",
   "execution_count": 27,
   "id": "e6b83da1-84cd-49ff-833c-ea19b020e4a9",
   "metadata": {},
   "outputs": [
    {
     "data": {
      "text/plain": [
       "['Patricia', 'Mexico', 'F', 1989, 9, 10, 8.5, 7.2, 8, 7.5, 10]"
      ]
     },
     "execution_count": 27,
     "metadata": {},
     "output_type": "execute_result"
    }
   ],
   "source": [
    "Lista = A + a\n",
    "Lista"
   ]
  },
  {
   "cell_type": "markdown",
   "id": "94ef821c-02c9-442b-bbbc-88ec86166b61",
   "metadata": {},
   "source": [
    "#### Por tu cuenta\n",
    "\n",
    "Arma una función que eleve al cuadrado dotos los elementos de una lista. Prueba con una lista con todos los numeros pares del 2 al 20."
   ]
  },
  {
   "cell_type": "code",
   "execution_count": 33,
   "id": "45b5299d-36b9-4134-b278-73181a0d81cb",
   "metadata": {},
   "outputs": [],
   "source": [
    "numeros_pares = [2,4,6,8,10,12,14,16,18,20]\n",
    "\n",
    "def cuadrados(lista):\n",
    "    lista_cuadrados = [0] * len(lista) \n",
    "    for i in range(len(lista)):  \n",
    "        lista_cuadrados[i] = lista[i] ** 2  \n",
    "    return lista_cuadrados"
   ]
  },
  {
   "cell_type": "code",
   "execution_count": 34,
   "id": "be8cf34d-a79e-457a-803c-14d6040bb2dc",
   "metadata": {},
   "outputs": [],
   "source": [
    "resultado = cuadrados(numeros_pares)"
   ]
  },
  {
   "cell_type": "code",
   "execution_count": 35,
   "id": "f0bb7b5b-d176-4419-8cce-032bc37c622b",
   "metadata": {},
   "outputs": [
    {
     "name": "stdout",
     "output_type": "stream",
     "text": [
      "[4, 16, 36, 64, 100, 144, 196, 256, 324, 400]\n"
     ]
    }
   ],
   "source": [
    "print(resultado)"
   ]
  },
  {
   "cell_type": "markdown",
   "id": "63872edc-c46c-4e26-bb75-f52bb342ac88",
   "metadata": {},
   "source": [
    "## 5.3.- Tuplas"
   ]
  },
  {
   "cell_type": "markdown",
   "id": "65383d92-ac77-485b-bc79-f1171a79d555",
   "metadata": {},
   "source": [
    "Vamos comenzando con una tupla vacia"
   ]
  },
  {
   "cell_type": "code",
   "execution_count": 36,
   "id": "f2366bbd-3549-4a16-af7c-85904b3bbf0c",
   "metadata": {},
   "outputs": [],
   "source": [
    "datos_cliente1 = ()"
   ]
  },
  {
   "cell_type": "code",
   "execution_count": 37,
   "id": "5c14a74c",
   "metadata": {},
   "outputs": [],
   "source": [
    "datos_cliente2 = ()"
   ]
  },
  {
   "cell_type": "code",
   "execution_count": 38,
   "id": "a6def87e",
   "metadata": {},
   "outputs": [
    {
     "data": {
      "text/plain": [
       "0"
      ]
     },
     "execution_count": 38,
     "metadata": {},
     "output_type": "execute_result"
    }
   ],
   "source": [
    "len(datos_cliente1)"
   ]
  },
  {
   "cell_type": "markdown",
   "id": "51fdf97c-476b-417a-9142-d63f6488e351",
   "metadata": {},
   "source": [
    "Ahora vamos a añadir 3 elementos a la tupla"
   ]
  },
  {
   "cell_type": "code",
   "execution_count": 42,
   "id": "d7ea6549-4285-42ed-9595-141b324b0d8d",
   "metadata": {},
   "outputs": [],
   "source": [
    "datos_cliente1='Paty','F','1998'"
   ]
  },
  {
   "cell_type": "code",
   "execution_count": 43,
   "id": "8092a924-571e-4c01-877c-3343992080dc",
   "metadata": {},
   "outputs": [
    {
     "data": {
      "text/plain": [
       "('Paty', 'F', '1998')"
      ]
     },
     "execution_count": 43,
     "metadata": {},
     "output_type": "execute_result"
    }
   ],
   "source": [
    "datos_cliente1"
   ]
  },
  {
   "cell_type": "markdown",
   "id": "7a75137d-205b-43d6-b9a3-d73b61c4f383",
   "metadata": {},
   "source": [
    "Puedes llamar a los elementos individuales, arma un print que nos diga en que año nació paty (tiene 23 años al 2021)"
   ]
  },
  {
   "cell_type": "code",
   "execution_count": 44,
   "id": "451ff4ad-e817-4f00-b48e-3291b5e47618",
   "metadata": {},
   "outputs": [
    {
     "name": "stdout",
     "output_type": "stream",
     "text": [
      "Paty nacio en el año de 1998\n"
     ]
    }
   ],
   "source": [
    "print(datos_cliente1[0], 'nacio en el año de', (datos_cliente1[2]))"
   ]
  },
  {
   "cell_type": "markdown",
   "id": "5d282773-6fc3-4056-b784-14e5ef195d07",
   "metadata": {},
   "source": [
    "Es posible acceder a cualquier secuencia de elementos, asignando cada elemnto de la secuencia con una variable separada por comas"
   ]
  },
  {
   "cell_type": "code",
   "execution_count": 45,
   "id": "1f4b9f03-8cc1-47a4-b60c-a9faced7fcd0",
   "metadata": {},
   "outputs": [],
   "source": [
    "datos_paciente1 = ('Paco',[1.80,69])"
   ]
  },
  {
   "cell_type": "code",
   "execution_count": 46,
   "id": "4e870462-6ac0-4da5-84d7-7721842e108c",
   "metadata": {},
   "outputs": [],
   "source": [
    "nombre,estatura_peso = datos_paciente1"
   ]
  },
  {
   "cell_type": "code",
   "execution_count": 47,
   "id": "9568689e-c811-4fce-be49-6a7d6319e0d8",
   "metadata": {},
   "outputs": [
    {
     "data": {
      "text/plain": [
       "'Paco'"
      ]
     },
     "execution_count": 47,
     "metadata": {},
     "output_type": "execute_result"
    }
   ],
   "source": [
    "nombre"
   ]
  },
  {
   "cell_type": "code",
   "execution_count": 48,
   "id": "4045957b-b011-4f30-873f-842dbd6a372e",
   "metadata": {},
   "outputs": [
    {
     "data": {
      "text/plain": [
       "[1.8, 69]"
      ]
     },
     "execution_count": 48,
     "metadata": {},
     "output_type": "execute_result"
    }
   ],
   "source": [
    "estatura_peso"
   ]
  },
  {
   "cell_type": "markdown",
   "id": "5969742f-1fbf-4624-9ad2-ee0d93ef8bdf",
   "metadata": {},
   "source": [
    "Si en la tupla solo hay caracteres, vamos a armar un print que nos de cada letra por separado"
   ]
  },
  {
   "cell_type": "code",
   "execution_count": 49,
   "id": "9d72b043-b0c5-49cb-b7c5-650d0d2d9687",
   "metadata": {},
   "outputs": [],
   "source": [
    "primera,segunda = 'Va'"
   ]
  },
  {
   "cell_type": "code",
   "execution_count": 50,
   "id": "58736758-30e0-4b06-9bba-cee7cd305dca",
   "metadata": {},
   "outputs": [
    {
     "name": "stdout",
     "output_type": "stream",
     "text": [
      "V,a\n"
     ]
    }
   ],
   "source": [
    "print(f'{primera},{segunda}')"
   ]
  },
  {
   "cell_type": "markdown",
   "id": "9af5b414-23c0-4dea-b56e-2b50bf54ad79",
   "metadata": {},
   "source": [
    "Y si son valores..."
   ]
  },
  {
   "cell_type": "code",
   "execution_count": 51,
   "id": "53fe6f63-23f3-4fcb-81ee-f1932d4adfe8",
   "metadata": {},
   "outputs": [],
   "source": [
    "Estatura,Peso,Temperatura = (1.8,69,37.5)"
   ]
  },
  {
   "cell_type": "code",
   "execution_count": 52,
   "id": "700c9144-5de5-4b55-83e1-fbc39f090da7",
   "metadata": {},
   "outputs": [
    {
     "name": "stdout",
     "output_type": "stream",
     "text": [
      "1.8,69,37.5\n"
     ]
    }
   ],
   "source": [
    "print(f'{Estatura},{Peso},{Temperatura}')"
   ]
  },
  {
   "cell_type": "markdown",
   "id": "d0b039d7-3b85-4de4-b1df-27455f1d59fa",
   "metadata": {},
   "source": [
    "También se puede acceder un valor al indexarlo - vamos  arecibir una lista con 3 estudiantes y convertirlo en una tupla enumerada"
   ]
  },
  {
   "cell_type": "code",
   "execution_count": 53,
   "id": "04495cc6-7468-4d22-b572-f035bdb6695d",
   "metadata": {},
   "outputs": [],
   "source": [
    "estudiantes=['Hugo','Paco','Luis']"
   ]
  },
  {
   "cell_type": "code",
   "execution_count": 54,
   "id": "84ed760d-fb28-43cb-b20a-8971b227b453",
   "metadata": {},
   "outputs": [
    {
     "data": {
      "text/plain": [
       "[(0, 'Hugo'), (1, 'Paco'), (2, 'Luis')]"
      ]
     },
     "execution_count": 54,
     "metadata": {},
     "output_type": "execute_result"
    }
   ],
   "source": [
    "list(enumerate(estudiantes))"
   ]
  },
  {
   "cell_type": "code",
   "execution_count": 55,
   "id": "3340c6f3-41a7-4abe-bf54-6bf210e5a39e",
   "metadata": {},
   "outputs": [
    {
     "data": {
      "text/plain": [
       "((0, 'Hugo'), (1, 'Paco'), (2, 'Luis'))"
      ]
     },
     "execution_count": 55,
     "metadata": {},
     "output_type": "execute_result"
    }
   ],
   "source": [
    "tuple(enumerate(estudiantes))"
   ]
  },
  {
   "cell_type": "markdown",
   "id": "320006d7-5524-457c-a61c-5023c62cc322",
   "metadata": {},
   "source": [
    "#### Por tu cuenta\n",
    "\n",
    "Crea una tupla de un solo elemento con el número 582.4 y luego muestrala"
   ]
  },
  {
   "cell_type": "code",
   "execution_count": 56,
   "id": "4bec4be5",
   "metadata": {},
   "outputs": [
    {
     "name": "stdout",
     "output_type": "stream",
     "text": [
      "582.4\n"
     ]
    }
   ],
   "source": [
    "tupla = (582.4)\n",
    "print(tupla)"
   ]
  },
  {
   "cell_type": "markdown",
   "id": "fc8ebfbf-8f9c-4fde-85ce-11839d12e340",
   "metadata": {},
   "source": [
    "#### Por tu cuenta\n",
    "\n",
    "Muestra que pasa si intentas concatenar una lista de 3 enteros con una tupla de 3 enteros usando +"
   ]
  },
  {
   "cell_type": "code",
   "execution_count": 57,
   "id": "09dde36c",
   "metadata": {},
   "outputs": [
    {
     "name": "stdout",
     "output_type": "stream",
     "text": [
      "[2, 4, 6, 3, 5, 7]\n"
     ]
    }
   ],
   "source": [
    "lista1 = [2,4,6]\n",
    "lista2 = [3,5,7]\n",
    "\n",
    "lista_nueva=lista1+lista2\n",
    "\n",
    "print(lista_nueva)"
   ]
  },
  {
   "cell_type": "markdown",
   "id": "e735cded-fe6f-48bb-8062-801e0fd6c1b6",
   "metadata": {},
   "source": [
    "## 5.4.- Separando Secuencias"
   ]
  },
  {
   "cell_type": "markdown",
   "id": "268097d6-3300-4929-9981-8b1e55d549ec",
   "metadata": {},
   "source": [
    "Crea una secuencia con todas las potencias de 2 - del 2 al 256"
   ]
  },
  {
   "cell_type": "code",
   "execution_count": null,
   "id": "42058ae5-f784-412b-8470-2b7f2c229c3e",
   "metadata": {},
   "outputs": [],
   "source": [
    "potencias2 = [2,4,8,16,32,64,128,256]"
   ]
  },
  {
   "cell_type": "markdown",
   "id": "01ebf672-550e-4ca6-abd5-73e8f036aebc",
   "metadata": {},
   "source": [
    "Selecciona el 16 y 32"
   ]
  },
  {
   "cell_type": "code",
   "execution_count": 60,
   "id": "2ded3131-a702-4467-a906-c8e9821e846c",
   "metadata": {},
   "outputs": [
    {
     "data": {
      "text/plain": [
       "[16, 32]"
      ]
     },
     "execution_count": 60,
     "metadata": {},
     "output_type": "execute_result"
    }
   ],
   "source": [
    "potencias2[3:5]"
   ]
  },
  {
   "cell_type": "markdown",
   "id": "51a7badc-c12d-4df1-9a04-cfac6cccf92b",
   "metadata": {},
   "source": [
    "Ahora selecciona los primeros 5 elementos"
   ]
  },
  {
   "cell_type": "code",
   "execution_count": 62,
   "id": "3c5bbac0-ed79-483b-ad46-b1ec64bb76a3",
   "metadata": {},
   "outputs": [
    {
     "data": {
      "text/plain": [
       "[2, 4, 8, 16, 32]"
      ]
     },
     "execution_count": 62,
     "metadata": {},
     "output_type": "execute_result"
    }
   ],
   "source": [
    "potencias2[:5]"
   ]
  },
  {
   "cell_type": "markdown",
   "id": "04f36a0c-af19-441d-ace3-13f19b279292",
   "metadata": {},
   "source": [
    "Ahora vamos a seleccionar todos desde el 16 en adelante"
   ]
  },
  {
   "cell_type": "code",
   "execution_count": 63,
   "id": "7bcfbdbc-f0f2-44c4-b59b-2c9f8e4ec93d",
   "metadata": {},
   "outputs": [
    {
     "data": {
      "text/plain": [
       "[16, 32, 64, 128, 264]"
      ]
     },
     "execution_count": 63,
     "metadata": {},
     "output_type": "execute_result"
    }
   ],
   "source": [
    "potencias2[3:]"
   ]
  },
  {
   "cell_type": "markdown",
   "id": "f04faa4d-bf17-45e2-874a-cfc78919f798",
   "metadata": {},
   "source": [
    "Si dejamos los : asi nomás, selecciona todo"
   ]
  },
  {
   "cell_type": "code",
   "execution_count": 64,
   "id": "5ae3fa58-9a65-40af-af88-bd03be1753b2",
   "metadata": {},
   "outputs": [
    {
     "data": {
      "text/plain": [
       "[2, 4, 8, 16, 32, 64, 128, 264]"
      ]
     },
     "execution_count": 64,
     "metadata": {},
     "output_type": "execute_result"
    }
   ],
   "source": [
    "potencias2[:]"
   ]
  },
  {
   "cell_type": "markdown",
   "id": "b9bc5f09-3352-4e1e-a560-3e5528197175",
   "metadata": {},
   "source": [
    "También podemos seleccionar elementos de 2 en 2 o de 3 en 3 o asi, deja :: y luego va el stepfunction"
   ]
  },
  {
   "cell_type": "code",
   "execution_count": 65,
   "id": "dc1f41f6-156c-4c75-ba27-ff30655d5d0e",
   "metadata": {},
   "outputs": [
    {
     "data": {
      "text/plain": [
       "[2, 8, 32, 128]"
      ]
     },
     "execution_count": 65,
     "metadata": {},
     "output_type": "execute_result"
    }
   ],
   "source": [
    "potencias2[::2]"
   ]
  },
  {
   "cell_type": "code",
   "execution_count": 66,
   "id": "e2edf4fe",
   "metadata": {},
   "outputs": [
    {
     "data": {
      "text/plain": [
       "[2, 16, 128]"
      ]
     },
     "execution_count": 66,
     "metadata": {},
     "output_type": "execute_result"
    }
   ],
   "source": [
    "potencias2[::3]"
   ]
  },
  {
   "cell_type": "markdown",
   "id": "c2a43c4a-78bc-40bc-9303-4894721a1a11",
   "metadata": {},
   "source": [
    "Y si vamos de -3 en -3 significa que empieza desde el final"
   ]
  },
  {
   "cell_type": "code",
   "execution_count": 67,
   "id": "67dfc2aa-e7fb-4618-b06d-efc838aaffe8",
   "metadata": {},
   "outputs": [
    {
     "data": {
      "text/plain": [
       "[264, 32, 4]"
      ]
     },
     "execution_count": 67,
     "metadata": {},
     "output_type": "execute_result"
    }
   ],
   "source": [
    "potencias2[::-3]"
   ]
  },
  {
   "cell_type": "markdown",
   "id": "21fd3e6f-8f87-4778-a42c-337ab34b6077",
   "metadata": {},
   "source": [
    "Ahora modifica los nombres de los primeros 3 elementos, - en vez de numero que sea su nombre en letra"
   ]
  },
  {
   "cell_type": "code",
   "execution_count": 68,
   "id": "55433e0e-0d85-44aa-bd82-51b63d02b594",
   "metadata": {},
   "outputs": [],
   "source": [
    "potencias2[0:3] = ['dos','cuatro','ocho']"
   ]
  },
  {
   "cell_type": "code",
   "execution_count": 69,
   "id": "e01238e9-68ce-498c-8d3e-35537a289094",
   "metadata": {},
   "outputs": [
    {
     "data": {
      "text/plain": [
       "['dos', 'cuatro', 'ocho', 16, 32, 64, 128, 264]"
      ]
     },
     "execution_count": 69,
     "metadata": {},
     "output_type": "execute_result"
    }
   ],
   "source": [
    "potencias2"
   ]
  },
  {
   "cell_type": "markdown",
   "id": "17713748-a6e6-45de-b6a0-66ef95e49cdf",
   "metadata": {},
   "source": [
    "Mira, si le decimos qu elos elementos 0:2 van a estar [], entonces los borra"
   ]
  },
  {
   "cell_type": "code",
   "execution_count": 70,
   "id": "693215b6-3b49-47f2-9153-bf902a39c87c",
   "metadata": {},
   "outputs": [],
   "source": [
    "potencias2[0:2] = []"
   ]
  },
  {
   "cell_type": "code",
   "execution_count": 71,
   "id": "e3c4aa21-3166-463a-9602-7fb8befd2ebe",
   "metadata": {},
   "outputs": [
    {
     "data": {
      "text/plain": [
       "['ocho', 16, 32, 64, 128, 264]"
      ]
     },
     "execution_count": 71,
     "metadata": {},
     "output_type": "execute_result"
    }
   ],
   "source": [
    "potencias2[:]"
   ]
  },
  {
   "cell_type": "code",
   "execution_count": 76,
   "id": "64f0cfdb-9dd5-4b25-8a51-3cfa738d7dba",
   "metadata": {},
   "outputs": [
    {
     "data": {
      "text/plain": [
       "[1, 4, 8, 1, 32, 64, 1, 256]"
      ]
     },
     "execution_count": 76,
     "metadata": {},
     "output_type": "execute_result"
    }
   ],
   "source": [
    "potencias2 = [2,4,8,16,32,64,128,256]\n",
    "potencias2[::3] = [1,1,1]\n",
    "potencias2"
   ]
  },
  {
   "cell_type": "code",
   "execution_count": 77,
   "id": "0d13756f",
   "metadata": {},
   "outputs": [
    {
     "data": {
      "text/plain": [
       "1431133361920"
      ]
     },
     "execution_count": 77,
     "metadata": {},
     "output_type": "execute_result"
    }
   ],
   "source": [
    "id(potencias2)"
   ]
  },
  {
   "cell_type": "code",
   "execution_count": 78,
   "id": "23f10cd9-f3e5-4333-a668-cb6a44c98549",
   "metadata": {},
   "outputs": [
    {
     "data": {
      "text/plain": [
       "[]"
      ]
     },
     "execution_count": 78,
     "metadata": {},
     "output_type": "execute_result"
    }
   ],
   "source": [
    "potencias2[:] = []\n",
    "potencias2"
   ]
  },
  {
   "cell_type": "code",
   "execution_count": 79,
   "id": "53d5e790",
   "metadata": {},
   "outputs": [
    {
     "data": {
      "text/plain": [
       "1431133361920"
      ]
     },
     "execution_count": 79,
     "metadata": {},
     "output_type": "execute_result"
    }
   ],
   "source": [
    "id(potencias2)"
   ]
  },
  {
   "cell_type": "markdown",
   "id": "270080aa-82c2-4407-b507-8be7a1bf26f7",
   "metadata": {},
   "source": [
    "#### Por tu cuenta\n",
    "\n",
    "Crea una lista llamada números que contenga los valores del 1 al 15, haz las siguientes operaciones\n",
    "-selecciona los numeros enteros\n",
    "-reemplaza los elementos en indices 5 al 9 por 0s\n",
    "-manten solo los primeros 5 elementos, y muestra la lista resultante\n",
    "-Borra todos los elementos que quedan"
   ]
  },
  {
   "cell_type": "code",
   "execution_count": 116,
   "id": "bea74808-8298-4fe0-9c48-457ce0f055b7",
   "metadata": {},
   "outputs": [],
   "source": [
    "lista_numeros = [1,2,3,4,5,6,7,8,9,10,11,12,13,14,15]"
   ]
  },
  {
   "cell_type": "code",
   "execution_count": 117,
   "id": "d2e85b6a-f33f-444b-a1f1-e2f2dc3cbd38",
   "metadata": {},
   "outputs": [
    {
     "data": {
      "text/plain": [
       "[1, 2, 3, 4, 5, 6, 7, 8, 9, 10, 11, 12, 13, 14, 15]"
      ]
     },
     "execution_count": 117,
     "metadata": {},
     "output_type": "execute_result"
    }
   ],
   "source": [
    "#Seleccionar los numeros enteros\n",
    "numero_enteros = lista_numeros\n",
    "numero_enteros"
   ]
  },
  {
   "cell_type": "code",
   "execution_count": 118,
   "id": "971effa8-4e76-4e87-a741-a9eb06b284cf",
   "metadata": {},
   "outputs": [
    {
     "data": {
      "text/plain": [
       "[1, 2, 3, 4, 5, 0, 0, 0, 0, 0, 11, 12, 13, 14, 15]"
      ]
     },
     "execution_count": 118,
     "metadata": {},
     "output_type": "execute_result"
    }
   ],
   "source": [
    "#Reemplarzar los numeros del 5 al 9 por ceros\n",
    "lista_numeros[5:10] = [0] * 5\n",
    "nueva_lista=lista_numeros\n",
    "lista_numeros\n"
   ]
  },
  {
   "cell_type": "code",
   "execution_count": 119,
   "id": "c840c3e0-b882-4466-9dbf-231dccb35d1c",
   "metadata": {},
   "outputs": [
    {
     "data": {
      "text/plain": [
       "[1, 2, 3, 4, 5]"
      ]
     },
     "execution_count": 119,
     "metadata": {},
     "output_type": "execute_result"
    }
   ],
   "source": [
    "#Mantener los primeros cinco numeros\n",
    "lista_numeros = lista_numeros[:5]\n",
    "lista_numeros"
   ]
  },
  {
   "cell_type": "code",
   "execution_count": 121,
   "id": "646db8e8-c8b2-42fd-a8e5-3438903b2bf7",
   "metadata": {},
   "outputs": [
    {
     "data": {
      "text/plain": [
       "[1, 2, 3, 4, 5, 0, 0, 0, 0, 0]"
      ]
     },
     "execution_count": 121,
     "metadata": {},
     "output_type": "execute_result"
    }
   ],
   "source": [
    "#Borrar los elementos restantes\n",
    "nueva_lista[10:15]=[]\n",
    "nueva_lista"
   ]
  },
  {
   "cell_type": "markdown",
   "id": "e787df57-f04d-460b-ac74-ac76912815e4",
   "metadata": {},
   "source": [
    "### 5.4.2 - Del"
   ]
  },
  {
   "cell_type": "markdown",
   "id": "4efc660f-3092-43d5-a846-6e12b97c98b4",
   "metadata": {},
   "source": [
    "Ahora arma uan lista con todos los multiples de 10 del 0 al 90"
   ]
  },
  {
   "cell_type": "code",
   "execution_count": 135,
   "id": "82dffac8-898a-45ea-b5be-cd6f0ad74f8d",
   "metadata": {},
   "outputs": [],
   "source": [
    "lista_multiplos = [10,20,30,40,50,60,70,80,90]"
   ]
  },
  {
   "cell_type": "markdown",
   "id": "7f593981-b5fc-4629-9725-72e158c5e6b3",
   "metadata": {},
   "source": [
    "Borra del 30 al 50"
   ]
  },
  {
   "cell_type": "code",
   "execution_count": 127,
   "id": "9b08bf42-1f27-4166-8873-89aef5459e20",
   "metadata": {},
   "outputs": [
    {
     "data": {
      "text/plain": [
       "[10, 20, 60, 70, 80, 90]"
      ]
     },
     "execution_count": 127,
     "metadata": {},
     "output_type": "execute_result"
    }
   ],
   "source": [
    "lista_multiplos[2:5] = []\n",
    "lista_multiplos"
   ]
  },
  {
   "cell_type": "markdown",
   "id": "76350a53-7aab-4c18-9b43-a55f8b0c551d",
   "metadata": {},
   "source": [
    "A continuación, rearma la lista y borra cada segundo elemento"
   ]
  },
  {
   "cell_type": "code",
   "execution_count": 137,
   "id": "17481723-57af-4e64-9479-9d5d33b9af4d",
   "metadata": {},
   "outputs": [
    {
     "data": {
      "text/plain": [
       "[10, 30, 50, 70, 90]"
      ]
     },
     "execution_count": 137,
     "metadata": {},
     "output_type": "execute_result"
    }
   ],
   "source": [
    "lista_multiplos = [10,20,30,40,50,60,70,80,90]\n",
    "lista_multiplos[::2]"
   ]
  },
  {
   "cell_type": "markdown",
   "id": "da7c571a-ba0f-472b-9800-b94b7808ff05",
   "metadata": {},
   "source": [
    "Y por último, borra la lista completa"
   ]
  },
  {
   "cell_type": "code",
   "execution_count": 138,
   "id": "d21a9a28-cca0-436d-becb-c021125b4c55",
   "metadata": {},
   "outputs": [
    {
     "data": {
      "text/plain": [
       "[]"
      ]
     },
     "execution_count": 138,
     "metadata": {},
     "output_type": "execute_result"
    }
   ],
   "source": [
    "lista_multiplos[:]=[]\n",
    "lista_multiplos"
   ]
  },
  {
   "cell_type": "markdown",
   "id": "5f383b91-b740-40ed-9904-cfefc90ae7c9",
   "metadata": {},
   "source": [
    "#### Por tu cuenta\n",
    "\n",
    "Crea una lista con los numeros del 1 al 15\n",
    "- borra una parte que contenga los primeros 4 elementos, muestra tu resultado\n",
    "- Empezando con el primer elemento, borra cada 2do elemento de la lista. "
   ]
  },
  {
   "cell_type": "code",
   "execution_count": 139,
   "id": "f242cd81-a228-4ff9-8b6c-dddab8ce1d6c",
   "metadata": {},
   "outputs": [],
   "source": [
    "numeros = [1,2,3,4,5,6,7,8,9,10,11,12,13,14,15]"
   ]
  },
  {
   "cell_type": "code",
   "execution_count": 141,
   "id": "a8df8333-685b-4a9f-8132-009421dc71e5",
   "metadata": {},
   "outputs": [
    {
     "data": {
      "text/plain": [
       "[5, 6, 7, 8, 9, 10, 11, 12, 13, 14, 15]"
      ]
     },
     "execution_count": 141,
     "metadata": {},
     "output_type": "execute_result"
    }
   ],
   "source": [
    "numeros [:4] = []\n",
    "numeros"
   ]
  },
  {
   "cell_type": "code",
   "execution_count": 142,
   "id": "501f2a73-c5af-4416-a486-65d88b3cad0f",
   "metadata": {},
   "outputs": [
    {
     "data": {
      "text/plain": [
       "[1, 3, 5, 7, 9, 11, 13, 15]"
      ]
     },
     "execution_count": 142,
     "metadata": {},
     "output_type": "execute_result"
    }
   ],
   "source": [
    "numeros = [1,2,3,4,5,6,7,8,9,10,11,12,13,14,15]\n",
    "numeros[::2]"
   ]
  },
  {
   "cell_type": "markdown",
   "id": "6a657591-236e-4a92-8aac-a46d77f57cdb",
   "metadata": {},
   "source": [
    "## 5.5.- Listas Ordenadas"
   ]
  },
  {
   "cell_type": "markdown",
   "id": "16151e48-3630-4dcd-a3c4-66c374430646",
   "metadata": {},
   "source": [
    "Vamos  armar la lista\n",
    "\n",
    "edad = [65,26,28,36,18]"
   ]
  },
  {
   "cell_type": "code",
   "execution_count": 1,
   "id": "6637251b-41df-44cc-9e5c-6290dba5cbd4",
   "metadata": {},
   "outputs": [],
   "source": [
    "edad = [65,26,28,36,18]"
   ]
  },
  {
   "cell_type": "markdown",
   "id": "bb6aa8e8-9f7d-45f2-a79f-3f32f5db51c9",
   "metadata": {},
   "source": [
    "Ahora vamos a ordenarla usando sort()"
   ]
  },
  {
   "cell_type": "code",
   "execution_count": 2,
   "id": "920cf4e0-e995-4fd5-beaf-20954b074f84",
   "metadata": {},
   "outputs": [],
   "source": [
    "edad.sort()"
   ]
  },
  {
   "cell_type": "code",
   "execution_count": 3,
   "id": "0ba2863f-1e1a-4e85-a2ed-b6bfadb93eb1",
   "metadata": {},
   "outputs": [
    {
     "data": {
      "text/plain": [
       "[18, 26, 28, 36, 65]"
      ]
     },
     "execution_count": 3,
     "metadata": {},
     "output_type": "execute_result"
    }
   ],
   "source": [
    "edad"
   ]
  },
  {
   "cell_type": "markdown",
   "id": "8a9575ea-33cd-43cd-9f5d-0b3101e84101",
   "metadata": {},
   "source": [
    "Ahora vamos aordenarla usando sort(reverse=true)"
   ]
  },
  {
   "cell_type": "code",
   "execution_count": 5,
   "id": "43c0e69f-6adc-4d7f-83b0-37fabd28bcfe",
   "metadata": {},
   "outputs": [],
   "source": [
    "edad.sort(reverse=True)"
   ]
  },
  {
   "cell_type": "code",
   "execution_count": 6,
   "id": "8c4d0a76-abcd-4f1a-950b-176f8deeec7a",
   "metadata": {},
   "outputs": [
    {
     "data": {
      "text/plain": [
       "[65, 36, 28, 26, 18]"
      ]
     },
     "execution_count": 6,
     "metadata": {},
     "output_type": "execute_result"
    }
   ],
   "source": [
    "edad"
   ]
  },
  {
   "cell_type": "markdown",
   "id": "d4c2de46-6517-4751-b11e-10f58fabb731",
   "metadata": {},
   "source": [
    "También se puede usar la función sorted, que es una función que devuelve otra lista"
   ]
  },
  {
   "cell_type": "code",
   "execution_count": 7,
   "id": "d3657f31-4ada-4d22-9644-4110caaa1b24",
   "metadata": {},
   "outputs": [],
   "source": [
    "edad = [65,26,28,36,18]"
   ]
  },
  {
   "cell_type": "code",
   "execution_count": 8,
   "id": "e1b49817-2c15-4946-98a8-2a2cd768b236",
   "metadata": {},
   "outputs": [],
   "source": [
    "edades_ascendentes = sorted(edad)"
   ]
  },
  {
   "cell_type": "code",
   "execution_count": 9,
   "id": "5e90cc89-cae0-47db-bf46-b622385bc3fb",
   "metadata": {},
   "outputs": [
    {
     "data": {
      "text/plain": [
       "[18, 26, 28, 36, 65]"
      ]
     },
     "execution_count": 9,
     "metadata": {},
     "output_type": "execute_result"
    }
   ],
   "source": [
    "edades_ascendentes"
   ]
  },
  {
   "cell_type": "code",
   "execution_count": 10,
   "id": "1c048a24-59d8-4d56-955f-90227a727ee2",
   "metadata": {},
   "outputs": [
    {
     "data": {
      "text/plain": [
       "[65, 26, 28, 36, 18]"
      ]
     },
     "execution_count": 10,
     "metadata": {},
     "output_type": "execute_result"
    }
   ],
   "source": [
    "edad"
   ]
  },
  {
   "cell_type": "markdown",
   "id": "316e7554-d647-4c9c-8c99-356aba8c2688",
   "metadata": {},
   "source": [
    "Se pueden ordenar cadenas de caracters"
   ]
  },
  {
   "cell_type": "code",
   "execution_count": 11,
   "id": "a9cbd0df-1f39-4898-b0a4-9c29d00e462b",
   "metadata": {},
   "outputs": [],
   "source": [
    "nombre = 'FRANSISCO'"
   ]
  },
  {
   "cell_type": "code",
   "execution_count": 12,
   "id": "c287cd7f-580c-495c-81b2-0512294a54c6",
   "metadata": {},
   "outputs": [],
   "source": [
    "letras_ascendentes= sorted(nombre)"
   ]
  },
  {
   "cell_type": "code",
   "execution_count": 13,
   "id": "8817f622-0f59-4022-a5da-da31f458cad4",
   "metadata": {},
   "outputs": [
    {
     "data": {
      "text/plain": [
       "['A', 'C', 'F', 'I', 'N', 'O', 'R', 'S', 'S']"
      ]
     },
     "execution_count": 13,
     "metadata": {},
     "output_type": "execute_result"
    }
   ],
   "source": [
    "letras_ascendentes"
   ]
  },
  {
   "cell_type": "code",
   "execution_count": 14,
   "id": "a56122d8-3360-42d6-9508-3f81686148d7",
   "metadata": {},
   "outputs": [
    {
     "data": {
      "text/plain": [
       "'FRANSISCO'"
      ]
     },
     "execution_count": 14,
     "metadata": {},
     "output_type": "execute_result"
    }
   ],
   "source": [
    "nombre"
   ]
  },
  {
   "cell_type": "markdown",
   "id": "faf47c21-c6e1-4006-801a-46fcfe875760",
   "metadata": {},
   "source": [
    "Y también las tuplas, pero solo usando sorted"
   ]
  },
  {
   "cell_type": "code",
   "execution_count": 15,
   "id": "af686482-c3dc-4979-8891-d30d669e1b0e",
   "metadata": {},
   "outputs": [],
   "source": [
    "estudiantes = ('Hugo','Paco','Luis')"
   ]
  },
  {
   "cell_type": "code",
   "execution_count": 16,
   "id": "79868e1a-8c36-4658-97b7-39dc63aece88",
   "metadata": {},
   "outputs": [],
   "source": [
    "estud_ordenados = sorted(estudiantes)"
   ]
  },
  {
   "cell_type": "code",
   "execution_count": 17,
   "id": "26c7dde5-1773-4903-9a1d-4a0d05b9ebf1",
   "metadata": {},
   "outputs": [
    {
     "data": {
      "text/plain": [
       "['Hugo', 'Luis', 'Paco']"
      ]
     },
     "execution_count": 17,
     "metadata": {},
     "output_type": "execute_result"
    }
   ],
   "source": [
    "estud_ordenados"
   ]
  },
  {
   "cell_type": "code",
   "execution_count": 18,
   "id": "e39c4469-e14f-487f-a12c-44daae8a9ea9",
   "metadata": {},
   "outputs": [
    {
     "data": {
      "text/plain": [
       "('Hugo', 'Paco', 'Luis')"
      ]
     },
     "execution_count": 18,
     "metadata": {},
     "output_type": "execute_result"
    }
   ],
   "source": [
    "estudiantes"
   ]
  },
  {
   "cell_type": "markdown",
   "id": "fd59c820-17fc-4c26-b4bd-d712c0f899e2",
   "metadata": {},
   "source": [
    "### 5.5.2.- Buscando Secuencias"
   ]
  },
  {
   "cell_type": "markdown",
   "id": "a28823a1-57ce-4a0d-a337-03d44f00d475",
   "metadata": {},
   "source": [
    "Ahora arma la lista\n",
    "\n",
    "edad = [65,12,19,80,36,28,16,18,36,16,45,32,36,59]    "
   ]
  },
  {
   "cell_type": "code",
   "execution_count": null,
   "id": "b7d8ace3-e89d-4eb3-888c-88b6db252126",
   "metadata": {},
   "outputs": [],
   "source": [
    "edad = [65,12,19,80,36,28,16,18,36,16,45,32,36,59]"
   ]
  },
  {
   "cell_type": "code",
   "execution_count": 20,
   "id": "16cea3cd-f574-4d91-a695-73caabe8b80a",
   "metadata": {},
   "outputs": [
    {
     "data": {
      "text/plain": [
       "[65, 12, 19, 80, 36, 28, 16, 18, 36, 16, 45, 32, 36, 59]"
      ]
     },
     "execution_count": 20,
     "metadata": {},
     "output_type": "execute_result"
    }
   ],
   "source": [
    "edad"
   ]
  },
  {
   "cell_type": "markdown",
   "id": "97238422-0f79-4232-abf4-43e27f6a3a32",
   "metadata": {},
   "source": [
    "Y busca en ella la edad 45 usando el método index()"
   ]
  },
  {
   "cell_type": "code",
   "execution_count": 21,
   "id": "6f1db40f-a4a5-42b6-9eec-1b038a4c7f5e",
   "metadata": {},
   "outputs": [
    {
     "data": {
      "text/plain": [
       "10"
      ]
     },
     "execution_count": 21,
     "metadata": {},
     "output_type": "execute_result"
    }
   ],
   "source": [
    "edad.index(45)"
   ]
  },
  {
   "cell_type": "markdown",
   "id": "fddd6daa-b6a8-4999-adb0-6663778198cb",
   "metadata": {},
   "source": [
    "Si buscas algo que no esta, como 43, el resultado es..."
   ]
  },
  {
   "cell_type": "code",
   "execution_count": 22,
   "id": "5cdcf524-0249-4af0-b80c-34e35fc4f351",
   "metadata": {},
   "outputs": [
    {
     "ename": "ValueError",
     "evalue": "43 is not in list",
     "output_type": "error",
     "traceback": [
      "\u001b[1;31m---------------------------------------------------------------------------\u001b[0m",
      "\u001b[1;31mValueError\u001b[0m                                Traceback (most recent call last)",
      "Cell \u001b[1;32mIn[22], line 1\u001b[0m\n\u001b[1;32m----> 1\u001b[0m edad\u001b[38;5;241m.\u001b[39mindex(\u001b[38;5;241m43\u001b[39m)\n",
      "\u001b[1;31mValueError\u001b[0m: 43 is not in list"
     ]
    }
   ],
   "source": [
    "edad.index(43)"
   ]
  },
  {
   "cell_type": "markdown",
   "id": "5f2ef81e-4b06-4dc0-9448-f9b654934f02",
   "metadata": {},
   "source": [
    "Tambien puedes usar el comando in, checa si 56 está in edad"
   ]
  },
  {
   "cell_type": "code",
   "execution_count": 23,
   "id": "d3fc8551-44df-4b27-bd17-5a106650df51",
   "metadata": {},
   "outputs": [
    {
     "data": {
      "text/plain": [
       "False"
      ]
     },
     "execution_count": 23,
     "metadata": {},
     "output_type": "execute_result"
    }
   ],
   "source": [
    "56 in edad"
   ]
  },
  {
   "cell_type": "code",
   "execution_count": 24,
   "id": "9bf49d61-c927-4da0-9870-00a763e9cb15",
   "metadata": {},
   "outputs": [
    {
     "data": {
      "text/plain": [
       "True"
      ]
     },
     "execution_count": 24,
     "metadata": {},
     "output_type": "execute_result"
    }
   ],
   "source": [
    "36 in edad"
   ]
  },
  {
   "cell_type": "markdown",
   "id": "ab18778b-6b0d-486f-ba82-8bd8180e49a5",
   "metadata": {},
   "source": [
    "### 5.5.3.- Otros Métodos de Lista"
   ]
  },
  {
   "cell_type": "markdown",
   "id": "5d9ef857-0c98-4d81-bc80-d216d7a6569e",
   "metadata": {},
   "source": [
    "Arma una ensalada\n",
    "\n",
    "vegetales = ['espinaca','apio']"
   ]
  },
  {
   "cell_type": "code",
   "execution_count": 28,
   "id": "cbb8406c-a845-48f7-b750-236900ea5cdd",
   "metadata": {},
   "outputs": [],
   "source": [
    "vegetales = ['espinaca','apio']"
   ]
  },
  {
   "cell_type": "code",
   "execution_count": 29,
   "id": "00e67747-42e1-4a27-b170-e1df71392cd3",
   "metadata": {},
   "outputs": [
    {
     "data": {
      "text/plain": [
       "['espinaca', 'apio']"
      ]
     },
     "execution_count": 29,
     "metadata": {},
     "output_type": "execute_result"
    }
   ],
   "source": [
    "vegetales"
   ]
  },
  {
   "cell_type": "markdown",
   "id": "8a58a395-7594-4096-83b4-e1e6c5cdcfb6",
   "metadata": {},
   "source": [
    "Usa el método insert() para meter 'lechuga' en la posición 0"
   ]
  },
  {
   "cell_type": "code",
   "execution_count": 30,
   "id": "d1af9cf7-e8b5-400a-a18f-3196c72e7cc4",
   "metadata": {},
   "outputs": [],
   "source": [
    "vegetales.insert(0,'lechuga')"
   ]
  },
  {
   "cell_type": "code",
   "execution_count": 31,
   "id": "b87a1186-e837-481e-a4a9-b94212c7d37d",
   "metadata": {},
   "outputs": [
    {
     "data": {
      "text/plain": [
       "['lechuga', 'espinaca', 'apio']"
      ]
     },
     "execution_count": 31,
     "metadata": {},
     "output_type": "execute_result"
    }
   ],
   "source": [
    "vegetales"
   ]
  },
  {
   "cell_type": "markdown",
   "id": "52d4166b-d321-4a51-bbdd-978c4ded199e",
   "metadata": {},
   "source": [
    "Usa el método append() para meter 'esparragos' al final"
   ]
  },
  {
   "cell_type": "code",
   "execution_count": 32,
   "id": "2d6855bb-11d3-4d2e-9e5d-599cd6d659cf",
   "metadata": {},
   "outputs": [],
   "source": [
    "vegetales.append('esparrago')"
   ]
  },
  {
   "cell_type": "code",
   "execution_count": 33,
   "id": "2c8f2cb3-8b4a-4529-8579-863600c19eaf",
   "metadata": {},
   "outputs": [
    {
     "data": {
      "text/plain": [
       "['lechuga', 'espinaca', 'apio', 'esparrago']"
      ]
     },
     "execution_count": 33,
     "metadata": {},
     "output_type": "execute_result"
    }
   ],
   "source": [
    "vegetales"
   ]
  },
  {
   "cell_type": "markdown",
   "id": "854f646e-1f1a-4677-90f0-f2b23a679ac9",
   "metadata": {},
   "source": [
    "Agrega el precio usando el comando extend\n",
    "\n",
    "Precio = (10,15,8,30)"
   ]
  },
  {
   "cell_type": "code",
   "execution_count": 34,
   "id": "0db26dae-3e95-4172-b80b-110bd0caa0ff",
   "metadata": {},
   "outputs": [],
   "source": [
    "Precio = (10,15,8,30)"
   ]
  },
  {
   "cell_type": "code",
   "execution_count": 35,
   "id": "22a9e659-cf27-4972-90d6-d832c3a3d3ec",
   "metadata": {},
   "outputs": [],
   "source": [
    "vegetales.extend(Precio)"
   ]
  },
  {
   "cell_type": "code",
   "execution_count": 36,
   "id": "fe39d26d-136a-4e35-8ea6-ea2d437533f7",
   "metadata": {},
   "outputs": [
    {
     "data": {
      "text/plain": [
       "['lechuga', 'espinaca', 'apio', 'esparrago', 10, 15, 8, 30]"
      ]
     },
     "execution_count": 36,
     "metadata": {},
     "output_type": "execute_result"
    }
   ],
   "source": [
    "vegetales"
   ]
  },
  {
   "cell_type": "markdown",
   "id": "c63867c4-9b99-4b19-924a-06a47965ed9e",
   "metadata": {},
   "source": [
    "Quitale los esparragos a la ensalada usando remove()"
   ]
  },
  {
   "cell_type": "code",
   "execution_count": 37,
   "id": "3afd8bbc-d8dd-407d-8d65-cfce2092c590",
   "metadata": {},
   "outputs": [],
   "source": [
    "vegetales.remove('esparrago')"
   ]
  },
  {
   "cell_type": "code",
   "execution_count": 38,
   "id": "1675e33b-91cd-451b-aa92-d816a20ade58",
   "metadata": {},
   "outputs": [
    {
     "data": {
      "text/plain": [
       "['lechuga', 'espinaca', 'apio', 10, 15, 8, 30]"
      ]
     },
     "execution_count": 38,
     "metadata": {},
     "output_type": "execute_result"
    }
   ],
   "source": [
    "vegetales"
   ]
  },
  {
   "cell_type": "markdown",
   "id": "15d3c269-5b8a-4f1e-bee7-48bb5ddfb933",
   "metadata": {},
   "source": [
    "Tira la ensalada y ve por un platillo de hombre usando vegetales.clear()"
   ]
  },
  {
   "cell_type": "code",
   "execution_count": 39,
   "id": "492a21fc-86d6-48f6-b006-b68a2d7a28a8",
   "metadata": {},
   "outputs": [],
   "source": [
    "vegetales.clear()"
   ]
  },
  {
   "cell_type": "code",
   "execution_count": 40,
   "id": "1ede4348-0c19-4a7e-aec7-6fedead371e8",
   "metadata": {},
   "outputs": [
    {
     "data": {
      "text/plain": [
       "[]"
      ]
     },
     "execution_count": 40,
     "metadata": {},
     "output_type": "execute_result"
    }
   ],
   "source": [
    "vegetales"
   ]
  },
  {
   "cell_type": "markdown",
   "id": "61a5a0f1-41b4-48d1-95ee-ee51a29c90bd",
   "metadata": {},
   "source": [
    "### 5.5.4.- Contar"
   ]
  },
  {
   "cell_type": "markdown",
   "id": "3b74c7e6-3015-4bc5-807d-ea567e339a44",
   "metadata": {},
   "source": [
    "Arma una lista de edades\n",
    "\n",
    " edades = [15, 21, 16, 19, 20, 16, 19, 15, 21, 17, 18, 24, 20, 24, 21, 19, 18, 16, 19, 16]\n"
   ]
  },
  {
   "cell_type": "code",
   "execution_count": 41,
   "id": "1ec19d16-1f35-468e-86b4-be1f9e6c50b4",
   "metadata": {},
   "outputs": [],
   "source": [
    "edades = [15, 21, 16, 19, 20, 16, 19, 15, 21, 17, 18, 24, 20, 24, 21, 19, 18, 16, 19, 16]"
   ]
  },
  {
   "cell_type": "markdown",
   "id": "adc447a8-fe46-4bb5-9fab-f0bd2d03ad0f",
   "metadata": {},
   "source": [
    "Usa count para saber cuantas vecs aparece la edad 16"
   ]
  },
  {
   "cell_type": "code",
   "execution_count": 43,
   "id": "73cf7fb6-c511-4fed-9ff0-2dfbcc5bf279",
   "metadata": {},
   "outputs": [
    {
     "data": {
      "text/plain": [
       "4"
      ]
     },
     "execution_count": 43,
     "metadata": {},
     "output_type": "execute_result"
    }
   ],
   "source": [
    "edades.count(16)"
   ]
  },
  {
   "cell_type": "markdown",
   "id": "31102168-b3ca-48cf-8868-39ac7befccdd",
   "metadata": {},
   "source": [
    "Arma un for para contar cuantas veces se repite cada edad entre 15 a 25 en la lista\n",
    "\n",
    "imprime tus resultados con la frase\n",
    "La edad 15 se repite 2 veces\n",
    "y asi...\n",
    "\n",
    "\n"
   ]
  },
  {
   "cell_type": "code",
   "execution_count": 44,
   "id": "0f90d9b6-590d-4b4e-a702-9b0ecf55a9cb",
   "metadata": {},
   "outputs": [
    {
     "name": "stdout",
     "output_type": "stream",
     "text": [
      "La edad 15 se repite 2 veces\n",
      "La edad 16 se repite 4 veces\n",
      "La edad 17 se repite 1 veces\n",
      "La edad 18 se repite 2 veces\n",
      "La edad 19 se repite 4 veces\n",
      "La edad 20 se repite 2 veces\n",
      "La edad 21 se repite 3 veces\n",
      "La edad 22 se repite 0 veces\n",
      "La edad 23 se repite 0 veces\n",
      "La edad 24 se repite 2 veces\n"
     ]
    }
   ],
   "source": [
    "for edad in range(15,25):\n",
    "    print(f'La edad {edad} se repite {edades.count(edad)} veces')"
   ]
  },
  {
   "cell_type": "markdown",
   "id": "4d099cfc-d40a-43f6-9ad3-9dbd6954f1b1",
   "metadata": {},
   "source": [
    "Arma tu ensalada de nuevo\n",
    "\n",
    " vegetales = ['lechuga','espinaca','apio','pepinillo']"
   ]
  },
  {
   "cell_type": "code",
   "execution_count": 47,
   "id": "bfed5d68-3c2d-4145-aa56-d1254aa3db0b",
   "metadata": {},
   "outputs": [],
   "source": [
    "vegetales = ['lechuga','espinaca','apio','pepinillo']"
   ]
  },
  {
   "cell_type": "markdown",
   "id": "839085b2-372b-4050-b521-e8d7917295f2",
   "metadata": {},
   "source": [
    "Usa reverse para darle la vuelta"
   ]
  },
  {
   "cell_type": "code",
   "execution_count": 48,
   "id": "9ca9cbff-a4ba-4f71-bdd8-1d8b54e8d465",
   "metadata": {},
   "outputs": [],
   "source": [
    "vegetales.reverse()"
   ]
  },
  {
   "cell_type": "code",
   "execution_count": 49,
   "id": "971b10a0-2454-4c02-8e17-aaecb91db7e4",
   "metadata": {},
   "outputs": [
    {
     "data": {
      "text/plain": [
       "['pepinillo', 'apio', 'espinaca', 'lechuga']"
      ]
     },
     "execution_count": 49,
     "metadata": {},
     "output_type": "execute_result"
    }
   ],
   "source": [
    "vegetales"
   ]
  },
  {
   "cell_type": "markdown",
   "id": "26ef156d-9e86-431b-addd-6ad0225ecc17",
   "metadata": {},
   "source": [
    "Prepara una seguna ensalada usando copy"
   ]
  },
  {
   "cell_type": "code",
   "execution_count": 52,
   "id": "87e898e6-7355-4388-ad4f-4d441d91a80a",
   "metadata": {},
   "outputs": [],
   "source": [
    "copia_vegetales = vegetales.copy()"
   ]
  },
  {
   "cell_type": "code",
   "execution_count": 53,
   "id": "0e6bebe5-4f19-4bb7-a3f0-1dfde35d00d4",
   "metadata": {},
   "outputs": [
    {
     "data": {
      "text/plain": [
       "['pepinillo', 'apio', 'espinaca', 'lechuga']"
      ]
     },
     "execution_count": 53,
     "metadata": {},
     "output_type": "execute_result"
    }
   ],
   "source": [
    "copia_vegetales"
   ]
  },
  {
   "cell_type": "markdown",
   "id": "7ff36166-8379-4e4d-8c02-c465f958ad05",
   "metadata": {},
   "source": [
    "## 5.6.- Comprensión de Listas"
   ]
  },
  {
   "cell_type": "markdown",
   "id": "a83d69a6-c578-4d91-b13b-6ae1676c78b4",
   "metadata": {},
   "source": [
    "Vamos a armar una lista con todos los numeros del 1 al 10 de la manera mas mensa posible\n",
    "\n",
    "empeiza con lista vacia, y luego un for que haga un append de todos los numeros del 1 al 10"
   ]
  },
  {
   "cell_type": "code",
   "execution_count": 56,
   "id": "6bfdc08b-9d0e-44d3-bdae-64df3eaaa3ef",
   "metadata": {},
   "outputs": [],
   "source": [
    "lista1 = []"
   ]
  },
  {
   "cell_type": "code",
   "execution_count": 57,
   "id": "7744183f-e4cf-4349-9a13-17fe849f90e8",
   "metadata": {},
   "outputs": [
    {
     "data": {
      "text/plain": [
       "[1, 2, 3, 4, 5, 6, 7, 8, 9, 10]"
      ]
     },
     "execution_count": 57,
     "metadata": {},
     "output_type": "execute_result"
    }
   ],
   "source": [
    "for dato in range (1,11):\n",
    "    lista1.append(dato)\n",
    "lista1"
   ]
  },
  {
   "cell_type": "markdown",
   "id": "25bb7da9-eda4-4b25-b861-06f78a991d5d",
   "metadata": {},
   "source": [
    "Ahora hacemos lo mismo con la comprensión de listas"
   ]
  },
  {
   "cell_type": "code",
   "execution_count": 58,
   "id": "3df8af71-0695-4081-98ac-270841f5a624",
   "metadata": {},
   "outputs": [],
   "source": [
    "lista2=[dato for dato in range(1,11)]"
   ]
  },
  {
   "cell_type": "code",
   "execution_count": 59,
   "id": "70760b0f-3fa6-40f8-9668-04413c0bead1",
   "metadata": {},
   "outputs": [
    {
     "data": {
      "text/plain": [
       "[1, 2, 3, 4, 5, 6, 7, 8, 9, 10]"
      ]
     },
     "execution_count": 59,
     "metadata": {},
     "output_type": "execute_result"
    }
   ],
   "source": [
    "lista2"
   ]
  },
  {
   "cell_type": "markdown",
   "id": "987b7ef2-3686-42e5-89b4-03b93f28a91c",
   "metadata": {},
   "source": [
    "Tambien de plano podemos reemplazar todo eso por range"
   ]
  },
  {
   "cell_type": "code",
   "execution_count": 60,
   "id": "d7ec16e5-10ad-4e76-a963-83533cf330c1",
   "metadata": {},
   "outputs": [],
   "source": [
    "lista3= list(range(1,11))"
   ]
  },
  {
   "cell_type": "code",
   "execution_count": 61,
   "id": "a03ae328-9b7a-499d-960b-55278b30b862",
   "metadata": {},
   "outputs": [
    {
     "data": {
      "text/plain": [
       "[1, 2, 3, 4, 5, 6, 7, 8, 9, 10]"
      ]
     },
     "execution_count": 61,
     "metadata": {},
     "output_type": "execute_result"
    }
   ],
   "source": [
    "lista3"
   ]
  },
  {
   "cell_type": "markdown",
   "id": "fe5ab5de-8071-47e9-9b38-6dce775c8958",
   "metadata": {},
   "source": [
    "Ahora vamos a mapear - hacer calculos dentro de la comprension de listas, en este caso todos los cuadrados del 1 al 10"
   ]
  },
  {
   "cell_type": "code",
   "execution_count": 63,
   "id": "a6883d8b-4ec2-4f67-95f9-4f3f22dfe0ea",
   "metadata": {},
   "outputs": [
    {
     "data": {
      "text/plain": [
       "[1, 4, 9, 16, 25, 36, 49, 64, 81, 100]"
      ]
     },
     "execution_count": 63,
     "metadata": {},
     "output_type": "execute_result"
    }
   ],
   "source": [
    "cuad10=[dato*dato for dato in range (1,11)]\n",
    "cuad10"
   ]
  },
  {
   "cell_type": "markdown",
   "id": "f109e962-88d8-420c-90aa-538e4e221239",
   "metadata": {},
   "source": [
    "Ahora vamos a generar una comprensión de lista con filtro - todos los cuadrados del 1 al 10 siempre y cuando sean menores a 50"
   ]
  },
  {
   "cell_type": "code",
   "execution_count": 64,
   "id": "7cde0e96-e7aa-44bf-8c91-1ce790802d33",
   "metadata": {},
   "outputs": [],
   "source": [
    "cuad = [dato*dato for dato in range(1,11) if dato*dato<=50]"
   ]
  },
  {
   "cell_type": "code",
   "execution_count": 65,
   "id": "a31678cb-3c3e-4da7-8d73-2241a64f35a7",
   "metadata": {},
   "outputs": [
    {
     "data": {
      "text/plain": [
       "[1, 4, 9, 16, 25, 36, 49]"
      ]
     },
     "execution_count": 65,
     "metadata": {},
     "output_type": "execute_result"
    }
   ],
   "source": [
    "cuad"
   ]
  },
  {
   "cell_type": "markdown",
   "id": "4aa8c85a-f86c-4e9a-be7c-79eb3a72c482",
   "metadata": {},
   "source": [
    "Que tal que queremos una comprension de lista d etodos los cuadrados pares del 1 al 10?"
   ]
  },
  {
   "cell_type": "code",
   "execution_count": 66,
   "id": "8c22dd51-3455-4106-b5c6-782d11643529",
   "metadata": {},
   "outputs": [],
   "source": [
    "cuad2 = [dato*dato for dato in range(1,11) if dato % 2 == 0]"
   ]
  },
  {
   "cell_type": "code",
   "execution_count": 67,
   "id": "687bf525-b3b7-4940-87f3-78b0b42b9206",
   "metadata": {},
   "outputs": [
    {
     "data": {
      "text/plain": [
       "[4, 16, 36, 64, 100]"
      ]
     },
     "execution_count": 67,
     "metadata": {},
     "output_type": "execute_result"
    }
   ],
   "source": [
    "cuad2"
   ]
  },
  {
   "cell_type": "markdown",
   "id": "6519a6e2-f7db-4902-bce7-66bddcf01da0",
   "metadata": {},
   "source": [
    "Vuelve a armar tu ensalada\n",
    "\n",
    " vegetales = ['apio','brocoli','lechuga']\n",
    "    "
   ]
  },
  {
   "cell_type": "code",
   "execution_count": 68,
   "id": "2bbef5ac-54a5-446c-a7eb-629a420c5b50",
   "metadata": {},
   "outputs": [],
   "source": [
    "vegetales = ['apio','brocoli','lechuga']"
   ]
  },
  {
   "cell_type": "markdown",
   "id": "34ffd820-5dee-4b73-83e1-b9bcd9cbe96d",
   "metadata": {},
   "source": [
    "Arma una comprensión de lista que cambie todos estos a mayusculas"
   ]
  },
  {
   "cell_type": "code",
   "execution_count": 69,
   "id": "e469e624-c61a-43f4-b7aa-669491edc9cb",
   "metadata": {},
   "outputs": [],
   "source": [
    "vegetales2 = [dato.upper() for dato in vegetales]"
   ]
  },
  {
   "cell_type": "code",
   "execution_count": 70,
   "id": "fa326a23-14e5-4355-a0e6-780c7a91780b",
   "metadata": {},
   "outputs": [
    {
     "data": {
      "text/plain": [
       "['APIO', 'BROCOLI', 'LECHUGA']"
      ]
     },
     "execution_count": 70,
     "metadata": {},
     "output_type": "execute_result"
    }
   ],
   "source": [
    "vegetales2"
   ]
  },
  {
   "cell_type": "markdown",
   "id": "f4ec2120-193b-42e5-bdee-c6cf00796808",
   "metadata": {},
   "source": [
    "#### Por tu cuenta\n",
    "\n",
    "Arma una comprensión de lista que te devuelva tuplas de todos los numeros del 1 al 6 y sus cubos"
   ]
  },
  {
   "cell_type": "code",
   "execution_count": 74,
   "id": "9cf8e3c1-bbf5-420d-ab2b-497ba1bc35ab",
   "metadata": {},
   "outputs": [
    {
     "data": {
      "text/plain": [
       "[1, 8, 27, 64, 125, 216]"
      ]
     },
     "execution_count": 74,
     "metadata": {},
     "output_type": "execute_result"
    }
   ],
   "source": [
    "listanum1 = [dato*dato*dato for dato in range(1,7)]\n",
    "listanum1"
   ]
  },
  {
   "cell_type": "markdown",
   "id": "e8638d69-e268-429c-b2fa-c78ead6334a6",
   "metadata": {},
   "source": [
    "#### Por tu cuenta\n",
    "\n",
    "Arma una comprensión de lista que te devuelva todos los mutliples de 3 menores a 60"
   ]
  },
  {
   "cell_type": "code",
   "execution_count": 73,
   "id": "709712bb-d41f-4999-adaf-9801538ccbd5",
   "metadata": {},
   "outputs": [
    {
     "data": {
      "text/plain": [
       "[3, 6, 9, 12, 15, 18, 21, 24, 27, 30, 33, 36, 39, 42, 45, 48, 51, 54, 57]"
      ]
     },
     "execution_count": 73,
     "metadata": {},
     "output_type": "execute_result"
    }
   ],
   "source": [
    "listanum = [dato for dato in range(1,60) if dato % 3 == 0]\n",
    "listanum"
   ]
  },
  {
   "cell_type": "markdown",
   "id": "4faf8456-53ff-4a5a-8a5e-0a9c5871cc02",
   "metadata": {},
   "source": [
    "### 5.6.2.- Generador de Expresiones"
   ]
  },
  {
   "cell_type": "markdown",
   "id": "371fd199-f5a1-43ba-af06-6d52f3d453d4",
   "metadata": {},
   "source": [
    "Arma esta lista\n",
    "\n",
    "lista = [-3,5,8,4,1,-6,7,10]"
   ]
  },
  {
   "cell_type": "code",
   "execution_count": 75,
   "id": "1e690475-ea47-444f-9a11-9f6254daaf51",
   "metadata": {},
   "outputs": [],
   "source": [
    "lista = [-3,5,8,4,1,-6,7,10]"
   ]
  },
  {
   "cell_type": "markdown",
   "id": "7b2acc02-9db6-4c97-8c60-e244d9b63c96",
   "metadata": {},
   "source": [
    "Arma un for que te muestre los cuadrados pares de esta lista"
   ]
  },
  {
   "cell_type": "code",
   "execution_count": null,
   "id": "04b69e92",
   "metadata": {},
   "outputs": [
    {
     "data": {
      "text/plain": [
       "[8, 4, -6, 10]"
      ]
     },
     "execution_count": 76,
     "metadata": {},
     "output_type": "execute_result"
    }
   ],
   "source": [
    "def pares(x):\n",
    "    \"\"\"Regresa el valor de la lista solo si es numero par\"\"\"\n",
    "    return x % 2 ==0\n"
   ]
  },
  {
   "cell_type": "markdown",
   "id": "e9164aa8-25bb-436b-8bb4-f6827b674404",
   "metadata": {},
   "source": [
    "Ahora checa como podemos hacer lo mismo con el generador de expresiones"
   ]
  },
  {
   "cell_type": "code",
   "execution_count": 84,
   "id": "7c867d37-c1f8-45e1-8c5d-2c2cc7ae4d98",
   "metadata": {},
   "outputs": [
    {
     "data": {
      "text/plain": [
       "[8, 4, -6, 10]"
      ]
     },
     "execution_count": 84,
     "metadata": {},
     "output_type": "execute_result"
    }
   ],
   "source": [
    "[valor for valor in lista if pares(valor)]"
   ]
  },
  {
   "cell_type": "markdown",
   "id": "c290a61b-6c18-41eb-9c15-4ad27e8f90a8",
   "metadata": {},
   "source": [
    "Y para ver los resultados usa list()"
   ]
  },
  {
   "cell_type": "code",
   "execution_count": 83,
   "id": "030dbd25-49ee-441d-9058-6adb1cb034e6",
   "metadata": {},
   "outputs": [
    {
     "data": {
      "text/plain": [
       "[8, 4, -6, 10]"
      ]
     },
     "execution_count": 83,
     "metadata": {},
     "output_type": "execute_result"
    }
   ],
   "source": [
    "list(filter(pares,lista))"
   ]
  },
  {
   "cell_type": "markdown",
   "id": "9311748b-4e6a-4176-8f7f-4ab6a47a17f0",
   "metadata": {},
   "source": [
    "#### Por tu cuenta\n",
    "\n",
    "Crea una expresion generadora que eleve al cubo los enteros pares en uan lista que contiene 10,3,7,1,9,4"
   ]
  },
  {
   "cell_type": "code",
   "execution_count": 79,
   "id": "b2f6e90d",
   "metadata": {},
   "outputs": [
    {
     "data": {
      "text/plain": [
       "[1000, 64]"
      ]
     },
     "execution_count": 79,
     "metadata": {},
     "output_type": "execute_result"
    }
   ],
   "source": [
    "listados=[10,3,7,1,9,4]\n",
    "[valor*valor*valor for valor in listados if valor % 2 ==0]"
   ]
  },
  {
   "cell_type": "markdown",
   "id": "d785037d-ccf0-4b18-8d70-f63c7cd3135d",
   "metadata": {},
   "source": [
    "### 5.6.3.- Filtrar, mapear y reducir"
   ]
  },
  {
   "cell_type": "markdown",
   "id": "39194aec-910a-492e-91eb-6b6fb1b5eb83",
   "metadata": {},
   "source": [
    "Primero vamos a definir una funcion que cheque si un numero es par\n",
    "\n",
    "usaremos la lista lista=[-3,5,8,4,1,-6,7,10]"
   ]
  },
  {
   "cell_type": "code",
   "execution_count": 85,
   "id": "4df31406-2bb0-49c6-a3f5-e49460b29fac",
   "metadata": {},
   "outputs": [],
   "source": [
    "lista=[-3,5,8,4,1,-6,7,10]"
   ]
  },
  {
   "cell_type": "markdown",
   "id": "a9ad5688-aac8-4549-b9c5-6425775085e8",
   "metadata": {},
   "source": [
    "Ahoa vamos a filtrar la lista usando esta nueva función"
   ]
  },
  {
   "cell_type": "code",
   "execution_count": 86,
   "id": "6a441c8e-29f8-4c80-a388-a2ca3be63530",
   "metadata": {},
   "outputs": [
    {
     "data": {
      "text/plain": [
       "[8, 4, -6, 10]"
      ]
     },
     "execution_count": 86,
     "metadata": {},
     "output_type": "execute_result"
    }
   ],
   "source": [
    "list(filter(pares,lista))"
   ]
  },
  {
   "cell_type": "markdown",
   "id": "fb4f69f6-f7f8-49f1-94a2-51f481ea137d",
   "metadata": {},
   "source": [
    "Podemos usar la comprensión de listas y nuestra nueva función para armar una lista"
   ]
  },
  {
   "cell_type": "code",
   "execution_count": 87,
   "id": "e94eaa15-2e37-482b-a69d-28d95d002f06",
   "metadata": {},
   "outputs": [
    {
     "data": {
      "text/plain": [
       "[8, 4, -6, 10]"
      ]
     },
     "execution_count": 87,
     "metadata": {},
     "output_type": "execute_result"
    }
   ],
   "source": [
    "[valor for valor in lista if pares(valor)]"
   ]
  },
  {
   "cell_type": "markdown",
   "id": "f0be8bcf-9b9e-4fb6-93cc-f0f30314f1b8",
   "metadata": {},
   "source": [
    "Cuando la funcion es tan sencilla, es mejor usar un lambda que andarla definiendo, como en este caso que hacemos lo mismo pero con lambda"
   ]
  },
  {
   "cell_type": "code",
   "execution_count": 88,
   "id": "cdc77c6f-5e42-4d9c-acac-4615f49226f5",
   "metadata": {},
   "outputs": [
    {
     "data": {
      "text/plain": [
       "[8, 4, -6, 10]"
      ]
     },
     "execution_count": 88,
     "metadata": {},
     "output_type": "execute_result"
    }
   ],
   "source": [
    "list(filter(lambda x:x%2==0, lista))"
   ]
  },
  {
   "cell_type": "markdown",
   "id": "fb32d7b5-1e45-4906-9905-31dd6d7f94e3",
   "metadata": {},
   "source": [
    "Vamos a usar lambda y map para mostrar una comprensión de lista que eleva todo al cubo, la lsita a usar sera\n",
    "\n",
    "[-3, 5, 8, 4, 1, -6, 7, 10]\n"
   ]
  },
  {
   "cell_type": "code",
   "execution_count": 89,
   "id": "51dd7c09-cb14-48f0-abf3-00cc4fea926c",
   "metadata": {},
   "outputs": [],
   "source": [
    "lista=[-3,5,8,4,1,-6,7,10]"
   ]
  },
  {
   "cell_type": "code",
   "execution_count": 90,
   "id": "d8ed07ec-bb97-44df-aaab-1dacef4adb10",
   "metadata": {},
   "outputs": [
    {
     "data": {
      "text/plain": [
       "[-27, 125, 512, 64, 1, -216, 343, 1000]"
      ]
     },
     "execution_count": 90,
     "metadata": {},
     "output_type": "execute_result"
    }
   ],
   "source": [
    "list(map(lambda x:x**3,lista))"
   ]
  },
  {
   "cell_type": "markdown",
   "id": "de526c84-8082-4b3c-b6a6-2e90f78b6288",
   "metadata": {},
   "source": [
    "Podemos laograr lo mismo sin map"
   ]
  },
  {
   "cell_type": "code",
   "execution_count": 91,
   "id": "c617c804-b9bc-4bcc-afcf-0f08ca5c03a7",
   "metadata": {},
   "outputs": [
    {
     "data": {
      "text/plain": [
       "[-27, 125, 512, 64, 1, -216, 343, 1000]"
      ]
     },
     "execution_count": 91,
     "metadata": {},
     "output_type": "execute_result"
    }
   ],
   "source": [
    "[valor**3 for valor in lista]"
   ]
  },
  {
   "cell_type": "markdown",
   "id": "5678af85-cfcf-470f-b443-5fc8905421e6",
   "metadata": {},
   "source": [
    "#### Por tu cuenta\n",
    "\n",
    "Crea una lista con numeros del 1 al 15 y luego\n",
    "- crea una nueva lista de los elementos impares\n",
    "- crea una nueva lista usando map y lambda para elevar al cuadrado a todos\n",
    "- filtra los elementos impares y luego mapealos a sus cuadrados"
   ]
  },
  {
   "cell_type": "code",
   "execution_count": 106,
   "id": "195e11af-3382-4c54-93e1-9ffc012c7fd5",
   "metadata": {},
   "outputs": [],
   "source": [
    "lista_nueva=[1,2,3,4,5,6,7,8,9,10,11,12,13,14,15]"
   ]
  },
  {
   "cell_type": "code",
   "execution_count": 107,
   "id": "9dda78d7-f4bc-4019-936c-bf0d79222857",
   "metadata": {},
   "outputs": [
    {
     "data": {
      "text/plain": [
       "[1, 3, 5, 7, 9, 11, 13, 15]"
      ]
     },
     "execution_count": 107,
     "metadata": {},
     "output_type": "execute_result"
    }
   ],
   "source": [
    "[valor for valor in lista_nueva if valor % 2 != 0]"
   ]
  },
  {
   "cell_type": "code",
   "execution_count": 108,
   "id": "823ed889-29ad-4be3-96d2-7f9b113a8d06",
   "metadata": {},
   "outputs": [
    {
     "data": {
      "text/plain": [
       "[1, 4, 9, 16, 25, 36, 49, 64, 81, 100, 121, 144, 169, 196, 225]"
      ]
     },
     "execution_count": 108,
     "metadata": {},
     "output_type": "execute_result"
    }
   ],
   "source": [
    "list(map(lambda x:x**2,lista_nueva))"
   ]
  },
  {
   "cell_type": "code",
   "execution_count": 110,
   "id": "c51796d3-4b5b-4564-9f33-dfffa97a35ea",
   "metadata": {},
   "outputs": [
    {
     "data": {
      "text/plain": [
       "[1, 9, 25, 49, 81, 121, 169, 225]"
      ]
     },
     "execution_count": 110,
     "metadata": {},
     "output_type": "execute_result"
    }
   ],
   "source": [
    "list_new=list(filter(lambda x:x%2 != 0, lista_nueva))\n",
    "list(map(lambda x:x**2, list_new))"
   ]
  },
  {
   "cell_type": "markdown",
   "id": "8982ada3-b911-4ce7-815d-cdfddd3e3309",
   "metadata": {},
   "source": [
    "## 5.7.- Listas de 2 Dimensiones"
   ]
  },
  {
   "cell_type": "markdown",
   "id": "4f792a56-c1f9-49f7-a240-dfc72c4307a8",
   "metadata": {},
   "source": [
    "Es posible crear una lista de 2 dimensiones en python"
   ]
  },
  {
   "cell_type": "code",
   "execution_count": 54,
   "id": "ee176686-c117-456f-a50b-2b5d7cd83ed4",
   "metadata": {},
   "outputs": [],
   "source": [
    "peso = [[118,117,114,110], \n",
    "        [84.5,81.3,82,81]]"
   ]
  },
  {
   "cell_type": "code",
   "execution_count": 55,
   "id": "3de7fdfd-e966-4099-a6d7-f49489467197",
   "metadata": {},
   "outputs": [
    {
     "name": "stdout",
     "output_type": "stream",
     "text": [
      "118 117 114 110 \n",
      "84.5 81.3 82 81 \n"
     ]
    }
   ],
   "source": [
    "for fila in peso:\n",
    "    for valor in fila:\n",
    "        print(valor,end=' ')\n",
    "    print()"
   ]
  },
  {
   "cell_type": "markdown",
   "id": "97f237d9-fce6-4753-a5fd-72fef478a5ac",
   "metadata": {},
   "source": [
    "# 5.8.- Visualización de Datos Estáticos"
   ]
  },
  {
   "cell_type": "markdown",
   "id": "660fc61f-303f-4b13-8aa3-8b4daf7c0ef3",
   "metadata": {},
   "source": [
    "Importa las librerias"
   ]
  },
  {
   "cell_type": "code",
   "execution_count": 143,
   "id": "84c07484-465f-4cf1-8e52-3743285474fa",
   "metadata": {},
   "outputs": [],
   "source": [
    "import matplotlib.pyplot as plt\n",
    "import numpy as np\n",
    "import random\n",
    "import seaborn as sns"
   ]
  },
  {
   "cell_type": "code",
   "execution_count": 144,
   "id": "c569f808-308d-4eb3-b10a-9404cdc41c26",
   "metadata": {},
   "outputs": [],
   "source": [
    "tirosdados = [random.randrange(1,7) for i in range(600)]"
   ]
  },
  {
   "cell_type": "markdown",
   "id": "04883860-0fef-4cb9-87c1-3c36fb79b907",
   "metadata": {},
   "source": [
    "Crea la grafica de barras incial"
   ]
  },
  {
   "cell_type": "code",
   "execution_count": 145,
   "id": "3ff659a1-2b4d-4b9e-bf18-87c1fad11f32",
   "metadata": {},
   "outputs": [],
   "source": [
    "valores, frecuencias=np.unique(tirosdados, return_counts=True)"
   ]
  },
  {
   "cell_type": "code",
   "execution_count": 146,
   "id": "a8ebf813-a961-47c2-8404-b2a19b6c6a3a",
   "metadata": {},
   "outputs": [],
   "source": [
    "titulo = f'Resultados de tirar los dados {len(tirosdados)} veces'"
   ]
  },
  {
   "cell_type": "markdown",
   "id": "b25012b0-d5b0-4a5c-ac57-12cb2090fa44",
   "metadata": {},
   "source": [
    "Pon la ventana y etiqueta los ejes"
   ]
  },
  {
   "cell_type": "code",
   "execution_count": 147,
   "id": "e3944641-253b-4ac3-84ed-e02f9e38c965",
   "metadata": {},
   "outputs": [],
   "source": [
    "sns.set_style('whitegrid')"
   ]
  },
  {
   "cell_type": "code",
   "execution_count": 175,
   "id": "a61601ae-ab53-4e23-b0c8-1711fcf344a2",
   "metadata": {},
   "outputs": [
    {
     "name": "stderr",
     "output_type": "stream",
     "text": [
      "C:\\Users\\migue\\AppData\\Local\\Temp\\ipykernel_20228\\3382006688.py:1: FutureWarning: \n",
      "\n",
      "Passing `palette` without assigning `hue` is deprecated and will be removed in v0.14.0. Assign the `x` variable to `hue` and set `legend=False` for the same effect.\n",
      "\n",
      "  axes = sns.barplot(x=valores, y=frecuencias, palette='bright')\n"
     ]
    },
    {
     "data": {
      "image/png": "[encoded data removed]",
      "text/plain": [
       "<Figure size 640x480 with 1 Axes>"
      ]
     },
     "metadata": {},
     "output_type": "display_data"
    }
   ],
   "source": [
    "axes = sns.barplot(x=valores, y=frecuencias, palette='bright')"
   ]
  },
  {
   "cell_type": "markdown",
   "id": "5072413f-bc1e-4cc6-a115-1f307801dfb4",
   "metadata": {},
   "source": [
    "Finaliza la grafica de barras"
   ]
  },
  {
   "cell_type": "code",
   "execution_count": 152,
   "id": "a2c59038-d30f-4391-a1e7-d46270f939c8",
   "metadata": {},
   "outputs": [
    {
     "data": {
      "text/plain": [
       "Text(0.5, 1.0, 'Resultados de tirar los dados 600 veces')"
      ]
     },
     "execution_count": 152,
     "metadata": {},
     "output_type": "execute_result"
    }
   ],
   "source": [
    "axes.set_title(titulo)"
   ]
  },
  {
   "cell_type": "code",
   "execution_count": 165,
   "id": "e00e14b3-9fbc-4c71-873b-59ffa9c9d801",
   "metadata": {},
   "outputs": [
    {
     "data": {
      "text/plain": [
       "[Text(0.5, 4.444444444444445, 'Valores'),\n",
       " Text(4.444444444444452, 0.5, 'frecuencias')]"
      ]
     },
     "execution_count": 165,
     "metadata": {},
     "output_type": "execute_result"
    }
   ],
   "source": [
    "axes.set(xlabel='Valores', ylabel='frecuencias')"
   ]
  },
  {
   "cell_type": "code",
   "execution_count": 188,
   "id": "ef08d82c-3912-4137-87c3-66ad41efe17b",
   "metadata": {},
   "outputs": [],
   "source": [
    "for bar, frecunecias in zip(axes.patches, frecuencias):\n",
    "    text_x=bar.get_x()+bar.get_width()/2.0\n",
    "    text_y=bar.get_height()\n",
    "\n",
    "    if isinstance(frecuencias, np.ndarray):\n",
    "        frecuencias = frecuencias[0]\n",
    "\n",
    "    text = f'{frecuencias:,}\\n{frecuencias / len(tirosdados):.3%}'\n",
    "    axes.text(text_x, text_y, text, fontsize=11, ha= 'center', va='bottom')"
   ]
  },
  {
   "cell_type": "markdown",
   "id": "1bdc0a7a-3035-4f6d-80ae-d09c823a3df5",
   "metadata": {},
   "source": [
    "Tira de nuevo usando magia"
   ]
  },
  {
   "cell_type": "markdown",
   "id": "061e56bc-62f3-435a-ae25-2e8dbab3a066",
   "metadata": {},
   "source": [
    "Guarda tu programa usando magia"
   ]
  },
  {
   "cell_type": "code",
   "execution_count": 192,
   "id": "8227b0d0-539a-47a4-ac77-87fb8afd0ec0",
   "metadata": {},
   "outputs": [
    {
     "name": "stderr",
     "output_type": "stream",
     "text": [
      "C:\\Users\\migue\\AppData\\Local\\Temp\\ipykernel_20228\\3663607525.py:5: FutureWarning: \n",
      "\n",
      "Passing `palette` without assigning `hue` is deprecated and will be removed in v0.14.0. Assign the `x` variable to `hue` and set `legend=False` for the same effect.\n",
      "\n",
      "  axes = sns.barplot(x=valores, y=frecuencias, palette='bright')\n"
     ]
    },
    {
     "data": {
      "image/png": "[encoded data removed]",
      "text/plain": [
       "<Figure size 640x480 with 1 Axes>"
      ]
     },
     "metadata": {},
     "output_type": "display_data"
    }
   ],
   "source": [
    "tirosdados = [random.randrange(1,7) for i in range(600)]\n",
    "valores, frecuencias=np.unique(tirosdados, return_counts=True)\n",
    "titulo = f'Resultados de tirar los dados {len(tirosdados)} veces'\n",
    "sns.set_style('whitegrid')\n",
    "axes = sns.barplot(x=valores, y=frecuencias, palette='bright')\n",
    "axes.set_title(titulo)\n",
    "axes.set(xlabel='Valores', ylabel='frecuencias')\n",
    "for bar, frecunecias in zip(axes.patches, frecuencias):\n",
    "    text_x=bar.get_x()+bar.get_width()/2.0\n",
    "    text_y=bar.get_height()\n",
    "\n",
    "    if isinstance(frecuencias, np.ndarray):\n",
    "        frecuencias = frecuencias[0]\n",
    "\n",
    "    text = f'{frecuencias:,}\\n{frecuencias / len(tirosdados):.3%}'\n",
    "    axes.text(text_x, text_y, text, fontsize=11, ha= 'center', va='bottom')"
   ]
  },
  {
   "cell_type": "code",
   "execution_count": null,
   "id": "f087a573-ae91-4133-93e7-7b5ab56213ee",
   "metadata": {},
   "outputs": [],
   "source": []
  }
 ],
 "metadata": {
  "kernelspec": {
   "display_name": "base",
   "language": "python",
   "name": "python3"
  },
  "language_info": {
   "codemirror_mode": {
    "name": "ipython",
    "version": 3
   },
   "file_extension": ".py",
   "mimetype": "text/x-python",
   "name": "python",
   "nbconvert_exporter": "python",
   "pygments_lexer": "ipython3",
   "version": "3.12.7"
  }
 },
 "nbformat": 4,
 "nbformat_minor": 5
}
